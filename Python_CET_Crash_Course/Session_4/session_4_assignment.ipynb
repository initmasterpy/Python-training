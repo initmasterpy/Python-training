{
 "cells": [
  {
   "cell_type": "markdown",
   "id": "b2321e9b-3344-4598-8fbf-da7629ece9da",
   "metadata": {},
   "source": [
    "# Geospatial Analysis of Milk Processors and Farmers in Belgium\n",
    "\n",
    "## Tasks\n",
    "\n",
    "### 1. Exploratory Data Analysis (EDA)\n",
    "- Load parties_transactiondata_belgium with `pandas`.\n",
    "- Inspect columns, number of observations, and missing values.\n",
    "- Compute summary statistics:\n",
    "  - Total volume per processor.\n",
    "  - Average supply per farmer.\n",
    "- Plot histograms or bar charts:\n",
    "  - Distribution of processor sizes.\n",
    "  - Distribution of farmer supply volumes.\n",
    "\n",
    "### 2. Distance Calculations\n",
    "\n",
    "- Calculate the radii at which the stuff is shipped.\n",
    "- Create the polygons representing the catchment areas (buffers).\n",
    "    \n",
    "### 3. Catchment Area Analysis\n",
    "- For each processor:\n",
    "  - Rank farmers by distance.\n",
    "  - Compute cumulative supplied volume and put it on a lineplot.\n",
    "  - Find the radius at which **80% of the volume** is collected.\n",
    "- Store results in a summary table:\n",
    "\n",
    "| Processor | 80% Catchment Radius (km) | Avg Supply Radius (km) | Total Volume |\n",
    "|-----------|----------------------------|-------------------------|--------------|\n",
    "\n",
    "### 4. Visualization\n",
    "- Create a final map that includes:\n",
    "  - Processor plants (distinct colors/shapes).\n",
    "  - Farmers (small points).\n",
    "  - Buffer zones (transparent circles).\n",
    "- (Optional) Color farmers by supplying processor.\n",
    "\n",
    "\n",
    "\n",
    "## It's preferable you do this in Spyder!\n"
   ]
  }
 ],
 "metadata": {
  "kernelspec": {
   "display_name": "Python 3 (ipykernel)",
   "language": "python",
   "name": "python3"
  },
  "language_info": {
   "codemirror_mode": {
    "name": "ipython",
    "version": 3
   },
   "file_extension": ".py",
   "mimetype": "text/x-python",
   "name": "python",
   "nbconvert_exporter": "python",
   "pygments_lexer": "ipython3",
   "version": "3.9.18"
  }
 },
 "nbformat": 4,
 "nbformat_minor": 5
}
