{
 "cells": [
  {
   "cell_type": "markdown",
   "id": "e0034624",
   "metadata": {},
   "source": [
    "# Working with Data\n",
    "\n",
    "In this session we will use mostly Pandas, a powerful open-source Python library used for data manipulation, analysis, and cleaning. It provides flexible data structures like:\n",
    "- DataFrame (like a spreadsheet or Stata dataset)\n",
    "- Series (like a single column or variable)\n",
    "\n",
    "Pandas makes handling data easier:\n",
    "- Easy to load data from CSV, Excel, SQL, etc.\n",
    "- Simple syntax for filtering, grouping, aggregating, and transforming data.\n",
    "- Excellent for handling missing values, merging datasets, and doing descriptive stats.\n",
    "- Comparable to what you might do in Stata, R, or Excel, but in a programmable and reusable way\n",
    "\n",
    "We will be using a randomized dataset that contains hypothetical transaction data in the dairy industry for 4 competitors, where 2 of them will be merging."
   ]
  },
  {
   "cell_type": "markdown",
   "id": "3941df06-3e4b-40ca-9329-5e39e8861f92",
   "metadata": {},
   "source": [
    "### Key features of Dataframe\n",
    "\n",
    "- Label-based indexing (Meaning you access rows or columns by their names (labels) rather than by their position)\n",
    "- Column-wise and row-wise operations\n",
    "- Support for mixed data types\n",
    "- Fast, vectorized operations"
   ]
  },
  {
   "cell_type": "code",
   "execution_count": 2,
   "id": "07bc605a-9410-430c-866c-7f3318ceeeba",
   "metadata": {},
   "outputs": [
    {
     "name": "stdout",
     "output_type": "stream",
     "text": [
      "Sample transaction data:\n"
     ]
    },
    {
     "data": {
      "text/html": [
       "<div>\n",
       "<style scoped>\n",
       "    .dataframe tbody tr th:only-of-type {\n",
       "        vertical-align: middle;\n",
       "    }\n",
       "\n",
       "    .dataframe tbody tr th {\n",
       "        vertical-align: top;\n",
       "    }\n",
       "\n",
       "    .dataframe thead th {\n",
       "        text-align: right;\n",
       "    }\n",
       "</style>\n",
       "<table border=\"1\" class=\"dataframe\">\n",
       "  <thead>\n",
       "    <tr style=\"text-align: right;\">\n",
       "      <th></th>\n",
       "      <th>transaction_id</th>\n",
       "      <th>date</th>\n",
       "      <th>company</th>\n",
       "      <th>customer_id</th>\n",
       "      <th>volume_kg</th>\n",
       "      <th>price_per_kg</th>\n",
       "      <th>cost_per_kg</th>\n",
       "      <th>product</th>\n",
       "      <th>region</th>\n",
       "    </tr>\n",
       "  </thead>\n",
       "  <tbody>\n",
       "    <tr>\n",
       "      <th>0</th>\n",
       "      <td>0</td>\n",
       "      <td>2024-04-12</td>\n",
       "      <td>Milkand</td>\n",
       "      <td>1664</td>\n",
       "      <td>149</td>\n",
       "      <td>1.25</td>\n",
       "      <td>0.74</td>\n",
       "      <td>Dairy</td>\n",
       "      <td>South</td>\n",
       "    </tr>\n",
       "    <tr>\n",
       "      <th>1</th>\n",
       "      <td>1</td>\n",
       "      <td>2024-12-14</td>\n",
       "      <td>Milkand</td>\n",
       "      <td>1089</td>\n",
       "      <td>2873</td>\n",
       "      <td>1.23</td>\n",
       "      <td>0.83</td>\n",
       "      <td>Dairy</td>\n",
       "      <td>West</td>\n",
       "    </tr>\n",
       "    <tr>\n",
       "      <th>2</th>\n",
       "      <td>2</td>\n",
       "      <td>2024-09-27</td>\n",
       "      <td>Milkand</td>\n",
       "      <td>1615</td>\n",
       "      <td>2015</td>\n",
       "      <td>1.37</td>\n",
       "      <td>0.68</td>\n",
       "      <td>Dairy</td>\n",
       "      <td>West</td>\n",
       "    </tr>\n",
       "    <tr>\n",
       "      <th>3</th>\n",
       "      <td>3</td>\n",
       "      <td>2024-04-16</td>\n",
       "      <td>Milkand</td>\n",
       "      <td>1947</td>\n",
       "      <td>2536</td>\n",
       "      <td>1.35</td>\n",
       "      <td>0.71</td>\n",
       "      <td>Dairy</td>\n",
       "      <td>North</td>\n",
       "    </tr>\n",
       "    <tr>\n",
       "      <th>4</th>\n",
       "      <td>4</td>\n",
       "      <td>2024-03-12</td>\n",
       "      <td>Milkand</td>\n",
       "      <td>1523</td>\n",
       "      <td>1904</td>\n",
       "      <td>1.23</td>\n",
       "      <td>0.78</td>\n",
       "      <td>Dairy</td>\n",
       "      <td>East</td>\n",
       "    </tr>\n",
       "  </tbody>\n",
       "</table>\n",
       "</div>"
      ],
      "text/plain": [
       "   transaction_id        date  company  customer_id  volume_kg  price_per_kg  \\\n",
       "0               0  2024-04-12  Milkand         1664        149          1.25   \n",
       "1               1  2024-12-14  Milkand         1089       2873          1.23   \n",
       "2               2  2024-09-27  Milkand         1615       2015          1.37   \n",
       "3               3  2024-04-16  Milkand         1947       2536          1.35   \n",
       "4               4  2024-03-12  Milkand         1523       1904          1.23   \n",
       "\n",
       "   cost_per_kg product region  \n",
       "0         0.74   Dairy  South  \n",
       "1         0.83   Dairy   West  \n",
       "2         0.68   Dairy   West  \n",
       "3         0.71   Dairy  North  \n",
       "4         0.78   Dairy   East  "
      ]
     },
     "execution_count": 2,
     "metadata": {},
     "output_type": "execute_result"
    }
   ],
   "source": [
    "# we'll mostly need pandas and numpy to work with tabulated data\n",
    "import pandas as pd\n",
    "import numpy as np\n",
    "\n",
    "df = pd.read_csv(r\"\\\\cet.comp.cec.eu.int\\compedmacompcet\\CET\\python_training\\Python_CET_Crash_Course\\input\\transaction_data_milk_v2.csv\")\n",
    "\n",
    "print(\"Sample transaction data:\")\n",
    "df.head()"
   ]
  },
  {
   "cell_type": "markdown",
   "id": "1afe0052-a31b-472d-856a-ce1c3e9f49b9",
   "metadata": {},
   "source": [
    "Let's explore it a bit. We can get quick info from the columns and the data\n"
   ]
  },
  {
   "cell_type": "code",
   "execution_count": 179,
   "id": "fa3faf13-b190-40ab-86e5-9f48cb311700",
   "metadata": {},
   "outputs": [
    {
     "data": {
      "text/html": [
       "<div>\n",
       "<style scoped>\n",
       "    .dataframe tbody tr th:only-of-type {\n",
       "        vertical-align: middle;\n",
       "    }\n",
       "\n",
       "    .dataframe tbody tr th {\n",
       "        vertical-align: top;\n",
       "    }\n",
       "\n",
       "    .dataframe thead th {\n",
       "        text-align: right;\n",
       "    }\n",
       "</style>\n",
       "<table border=\"1\" class=\"dataframe\">\n",
       "  <thead>\n",
       "    <tr style=\"text-align: right;\">\n",
       "      <th></th>\n",
       "      <th>transaction_id</th>\n",
       "      <th>customer_id</th>\n",
       "      <th>volume_kg</th>\n",
       "      <th>price_per_kg</th>\n",
       "      <th>cost_per_kg</th>\n",
       "    </tr>\n",
       "  </thead>\n",
       "  <tbody>\n",
       "    <tr>\n",
       "      <th>count</th>\n",
       "      <td>20000.000000</td>\n",
       "      <td>20000.000000</td>\n",
       "      <td>20000.000000</td>\n",
       "      <td>20000.000000</td>\n",
       "      <td>20000.000000</td>\n",
       "    </tr>\n",
       "    <tr>\n",
       "      <th>mean</th>\n",
       "      <td>9999.500000</td>\n",
       "      <td>1501.267450</td>\n",
       "      <td>1547.747900</td>\n",
       "      <td>1.211845</td>\n",
       "      <td>0.732477</td>\n",
       "    </tr>\n",
       "    <tr>\n",
       "      <th>std</th>\n",
       "      <td>5773.647028</td>\n",
       "      <td>288.403165</td>\n",
       "      <td>838.325657</td>\n",
       "      <td>0.115862</td>\n",
       "      <td>0.075754</td>\n",
       "    </tr>\n",
       "    <tr>\n",
       "      <th>min</th>\n",
       "      <td>0.000000</td>\n",
       "      <td>1000.000000</td>\n",
       "      <td>100.000000</td>\n",
       "      <td>0.800000</td>\n",
       "      <td>0.460000</td>\n",
       "    </tr>\n",
       "    <tr>\n",
       "      <th>25%</th>\n",
       "      <td>4999.750000</td>\n",
       "      <td>1254.000000</td>\n",
       "      <td>819.000000</td>\n",
       "      <td>1.130000</td>\n",
       "      <td>0.680000</td>\n",
       "    </tr>\n",
       "    <tr>\n",
       "      <th>50%</th>\n",
       "      <td>9999.500000</td>\n",
       "      <td>1502.500000</td>\n",
       "      <td>1554.000000</td>\n",
       "      <td>1.220000</td>\n",
       "      <td>0.740000</td>\n",
       "    </tr>\n",
       "    <tr>\n",
       "      <th>75%</th>\n",
       "      <td>14999.250000</td>\n",
       "      <td>1749.000000</td>\n",
       "      <td>2274.000000</td>\n",
       "      <td>1.300000</td>\n",
       "      <td>0.790000</td>\n",
       "    </tr>\n",
       "    <tr>\n",
       "      <th>max</th>\n",
       "      <td>19999.000000</td>\n",
       "      <td>1999.000000</td>\n",
       "      <td>2999.000000</td>\n",
       "      <td>1.590000</td>\n",
       "      <td>0.990000</td>\n",
       "    </tr>\n",
       "  </tbody>\n",
       "</table>\n",
       "</div>"
      ],
      "text/plain": [
       "       transaction_id   customer_id     volume_kg  price_per_kg   cost_per_kg\n",
       "count    20000.000000  20000.000000  20000.000000  20000.000000  20000.000000\n",
       "mean      9999.500000   1501.267450   1547.747900      1.211845      0.732477\n",
       "std       5773.647028    288.403165    838.325657      0.115862      0.075754\n",
       "min          0.000000   1000.000000    100.000000      0.800000      0.460000\n",
       "25%       4999.750000   1254.000000    819.000000      1.130000      0.680000\n",
       "50%       9999.500000   1502.500000   1554.000000      1.220000      0.740000\n",
       "75%      14999.250000   1749.000000   2274.000000      1.300000      0.790000\n",
       "max      19999.000000   1999.000000   2999.000000      1.590000      0.990000"
      ]
     },
     "execution_count": 179,
     "metadata": {},
     "output_type": "execute_result"
    }
   ],
   "source": [
    "# describe provides descriptive statistics of the numeric columns\n",
    "df.describe()"
   ]
  },
  {
   "cell_type": "code",
   "execution_count": 180,
   "id": "c14f9698-fb2b-436c-a0f1-8eff09b0093f",
   "metadata": {},
   "outputs": [
    {
     "name": "stdout",
     "output_type": "stream",
     "text": [
      "<class 'pandas.core.frame.DataFrame'>\n",
      "RangeIndex: 20000 entries, 0 to 19999\n",
      "Data columns (total 9 columns):\n",
      " #   Column          Non-Null Count  Dtype  \n",
      "---  ------          --------------  -----  \n",
      " 0   transaction_id  20000 non-null  int64  \n",
      " 1   date            20000 non-null  object \n",
      " 2   company         20000 non-null  object \n",
      " 3   customer_id     20000 non-null  int64  \n",
      " 4   volume_kg       20000 non-null  int64  \n",
      " 5   price_per_kg    20000 non-null  float64\n",
      " 6   cost_per_kg     20000 non-null  float64\n",
      " 7   product         20000 non-null  object \n",
      " 8   region          20000 non-null  object \n",
      "dtypes: float64(2), int64(3), object(4)\n",
      "memory usage: 1.4+ MB\n"
     ]
    }
   ],
   "source": [
    "# Print a concise summary of a DataFrame.\n",
    "df.info()"
   ]
  },
  {
   "cell_type": "code",
   "execution_count": 27,
   "id": "17451404-420c-4023-87c5-763214f54452",
   "metadata": {},
   "outputs": [
    {
     "data": {
      "text/plain": [
       "Index(['transaction_id', 'date', 'company', 'customer_id', 'volume_kg',\n",
       "       'price_per_kg', 'cost_per_kg', 'product', 'region', 'revenue'],\n",
       "      dtype='object')"
      ]
     },
     "execution_count": 27,
     "metadata": {},
     "output_type": "execute_result"
    }
   ],
   "source": [
    "# print the name of the columns, in a list\n",
    "df.columns"
   ]
  },
  {
   "cell_type": "code",
   "execution_count": 28,
   "id": "bc28ccee-c2df-48b0-923a-5f1c1456318a",
   "metadata": {},
   "outputs": [
    {
     "data": {
      "text/plain": [
       "RangeIndex(start=0, stop=20000, step=1)"
      ]
     },
     "execution_count": 28,
     "metadata": {},
     "output_type": "execute_result"
    }
   ],
   "source": [
    "df.index"
   ]
  },
  {
   "cell_type": "code",
   "execution_count": 182,
   "id": "9eea901c-7846-488a-8ca3-a375516594fd",
   "metadata": {},
   "outputs": [
    {
     "data": {
      "text/plain": [
       "transaction_id    0\n",
       "date              0\n",
       "company           0\n",
       "customer_id       0\n",
       "volume_kg         0\n",
       "price_per_kg      0\n",
       "cost_per_kg       0\n",
       "product           0\n",
       "region            0\n",
       "dtype: int64"
      ]
     },
     "execution_count": 182,
     "metadata": {},
     "output_type": "execute_result"
    }
   ],
   "source": [
    "# do we have missing data? This is summing all True/False per column (equivalent of 1/0)\n",
    "df.isna().sum()"
   ]
  },
  {
   "cell_type": "markdown",
   "id": "efe30ba1-b7cf-404f-81f1-4f67f04afb43",
   "metadata": {},
   "source": [
    "We can create new columns with simple operations across columns."
   ]
  },
  {
   "cell_type": "code",
   "execution_count": 3,
   "id": "f3b8cc69-5ff3-4d03-8bca-f51f4ffe13f1",
   "metadata": {},
   "outputs": [],
   "source": [
    "df[\"revenue\"] = df[\"volume_kg\"] * df[\"price_per_kg\"]"
   ]
  },
  {
   "cell_type": "markdown",
   "id": "faaf68b2-3885-45f9-b93b-48b5eb0b0f8c",
   "metadata": {},
   "source": [
    "We can select data, and save it into a different object (often a new dataframe). Here we use the .loc[] accessor, and it's the best way to select data in Pandas. It basically return the data at the locations where [row condition], give [column(s)].\n",
    "\n",
    "df.loc[ROWS_SELECTION, COLUMNS_SELECTION]\n",
    "\n",
    "For more basic selection (a simple column), we can use square brackets --> df['company'] would give us the column \"company\". Compare Option 1 and 2 below. Is it the same?"
   ]
  },
  {
   "cell_type": "code",
   "execution_count": 4,
   "id": "7615f2cd-c12a-4974-bcd3-5c1974776d1d",
   "metadata": {},
   "outputs": [
    {
     "data": {
      "text/html": [
       "<div>\n",
       "<style scoped>\n",
       "    .dataframe tbody tr th:only-of-type {\n",
       "        vertical-align: middle;\n",
       "    }\n",
       "\n",
       "    .dataframe tbody tr th {\n",
       "        vertical-align: top;\n",
       "    }\n",
       "\n",
       "    .dataframe thead th {\n",
       "        text-align: right;\n",
       "    }\n",
       "</style>\n",
       "<table border=\"1\" class=\"dataframe\">\n",
       "  <thead>\n",
       "    <tr style=\"text-align: right;\">\n",
       "      <th></th>\n",
       "      <th>transaction_id</th>\n",
       "      <th>date</th>\n",
       "      <th>company</th>\n",
       "      <th>customer_id</th>\n",
       "      <th>volume_kg</th>\n",
       "      <th>price_per_kg</th>\n",
       "      <th>cost_per_kg</th>\n",
       "      <th>product</th>\n",
       "      <th>region</th>\n",
       "      <th>revenue</th>\n",
       "    </tr>\n",
       "  </thead>\n",
       "  <tbody>\n",
       "    <tr>\n",
       "      <th>0</th>\n",
       "      <td>0</td>\n",
       "      <td>2024-04-12</td>\n",
       "      <td>Milkand</td>\n",
       "      <td>1664</td>\n",
       "      <td>149</td>\n",
       "      <td>1.25</td>\n",
       "      <td>0.74</td>\n",
       "      <td>Dairy</td>\n",
       "      <td>South</td>\n",
       "      <td>186.25</td>\n",
       "    </tr>\n",
       "    <tr>\n",
       "      <th>1</th>\n",
       "      <td>1</td>\n",
       "      <td>2024-12-14</td>\n",
       "      <td>Milkand</td>\n",
       "      <td>1089</td>\n",
       "      <td>2873</td>\n",
       "      <td>1.23</td>\n",
       "      <td>0.83</td>\n",
       "      <td>Dairy</td>\n",
       "      <td>West</td>\n",
       "      <td>3533.79</td>\n",
       "    </tr>\n",
       "    <tr>\n",
       "      <th>2</th>\n",
       "      <td>2</td>\n",
       "      <td>2024-09-27</td>\n",
       "      <td>Milkand</td>\n",
       "      <td>1615</td>\n",
       "      <td>2015</td>\n",
       "      <td>1.37</td>\n",
       "      <td>0.68</td>\n",
       "      <td>Dairy</td>\n",
       "      <td>West</td>\n",
       "      <td>2760.55</td>\n",
       "    </tr>\n",
       "    <tr>\n",
       "      <th>3</th>\n",
       "      <td>3</td>\n",
       "      <td>2024-04-16</td>\n",
       "      <td>Milkand</td>\n",
       "      <td>1947</td>\n",
       "      <td>2536</td>\n",
       "      <td>1.35</td>\n",
       "      <td>0.71</td>\n",
       "      <td>Dairy</td>\n",
       "      <td>North</td>\n",
       "      <td>3423.60</td>\n",
       "    </tr>\n",
       "    <tr>\n",
       "      <th>4</th>\n",
       "      <td>4</td>\n",
       "      <td>2024-03-12</td>\n",
       "      <td>Milkand</td>\n",
       "      <td>1523</td>\n",
       "      <td>1904</td>\n",
       "      <td>1.23</td>\n",
       "      <td>0.78</td>\n",
       "      <td>Dairy</td>\n",
       "      <td>East</td>\n",
       "      <td>2341.92</td>\n",
       "    </tr>\n",
       "  </tbody>\n",
       "</table>\n",
       "</div>"
      ],
      "text/plain": [
       "   transaction_id        date  company  customer_id  volume_kg  price_per_kg  \\\n",
       "0               0  2024-04-12  Milkand         1664        149          1.25   \n",
       "1               1  2024-12-14  Milkand         1089       2873          1.23   \n",
       "2               2  2024-09-27  Milkand         1615       2015          1.37   \n",
       "3               3  2024-04-16  Milkand         1947       2536          1.35   \n",
       "4               4  2024-03-12  Milkand         1523       1904          1.23   \n",
       "\n",
       "   cost_per_kg product region  revenue  \n",
       "0         0.74   Dairy  South   186.25  \n",
       "1         0.83   Dairy   West  3533.79  \n",
       "2         0.68   Dairy   West  2760.55  \n",
       "3         0.71   Dairy  North  3423.60  \n",
       "4         0.78   Dairy   East  2341.92  "
      ]
     },
     "execution_count": 4,
     "metadata": {},
     "output_type": "execute_result"
    }
   ],
   "source": [
    "# Option 1\n",
    "milkand = df.loc[df.company=='Milkand']\n",
    "milkand.head()"
   ]
  },
  {
   "cell_type": "code",
   "execution_count": 5,
   "id": "cde27003-9efb-44b3-84e1-4a2f2c3f0ed3",
   "metadata": {},
   "outputs": [
    {
     "data": {
      "text/html": [
       "<div>\n",
       "<style scoped>\n",
       "    .dataframe tbody tr th:only-of-type {\n",
       "        vertical-align: middle;\n",
       "    }\n",
       "\n",
       "    .dataframe tbody tr th {\n",
       "        vertical-align: top;\n",
       "    }\n",
       "\n",
       "    .dataframe thead th {\n",
       "        text-align: right;\n",
       "    }\n",
       "</style>\n",
       "<table border=\"1\" class=\"dataframe\">\n",
       "  <thead>\n",
       "    <tr style=\"text-align: right;\">\n",
       "      <th></th>\n",
       "      <th>transaction_id</th>\n",
       "      <th>date</th>\n",
       "      <th>company</th>\n",
       "      <th>customer_id</th>\n",
       "      <th>volume_kg</th>\n",
       "      <th>price_per_kg</th>\n",
       "      <th>cost_per_kg</th>\n",
       "      <th>product</th>\n",
       "      <th>region</th>\n",
       "      <th>revenue</th>\n",
       "    </tr>\n",
       "  </thead>\n",
       "  <tbody>\n",
       "    <tr>\n",
       "      <th>0</th>\n",
       "      <td>0</td>\n",
       "      <td>2024-04-12</td>\n",
       "      <td>Milkand</td>\n",
       "      <td>1664</td>\n",
       "      <td>149</td>\n",
       "      <td>1.25</td>\n",
       "      <td>0.74</td>\n",
       "      <td>Dairy</td>\n",
       "      <td>South</td>\n",
       "      <td>186.25</td>\n",
       "    </tr>\n",
       "    <tr>\n",
       "      <th>1</th>\n",
       "      <td>1</td>\n",
       "      <td>2024-12-14</td>\n",
       "      <td>Milkand</td>\n",
       "      <td>1089</td>\n",
       "      <td>2873</td>\n",
       "      <td>1.23</td>\n",
       "      <td>0.83</td>\n",
       "      <td>Dairy</td>\n",
       "      <td>West</td>\n",
       "      <td>3533.79</td>\n",
       "    </tr>\n",
       "    <tr>\n",
       "      <th>2</th>\n",
       "      <td>2</td>\n",
       "      <td>2024-09-27</td>\n",
       "      <td>Milkand</td>\n",
       "      <td>1615</td>\n",
       "      <td>2015</td>\n",
       "      <td>1.37</td>\n",
       "      <td>0.68</td>\n",
       "      <td>Dairy</td>\n",
       "      <td>West</td>\n",
       "      <td>2760.55</td>\n",
       "    </tr>\n",
       "    <tr>\n",
       "      <th>3</th>\n",
       "      <td>3</td>\n",
       "      <td>2024-04-16</td>\n",
       "      <td>Milkand</td>\n",
       "      <td>1947</td>\n",
       "      <td>2536</td>\n",
       "      <td>1.35</td>\n",
       "      <td>0.71</td>\n",
       "      <td>Dairy</td>\n",
       "      <td>North</td>\n",
       "      <td>3423.60</td>\n",
       "    </tr>\n",
       "    <tr>\n",
       "      <th>4</th>\n",
       "      <td>4</td>\n",
       "      <td>2024-03-12</td>\n",
       "      <td>Milkand</td>\n",
       "      <td>1523</td>\n",
       "      <td>1904</td>\n",
       "      <td>1.23</td>\n",
       "      <td>0.78</td>\n",
       "      <td>Dairy</td>\n",
       "      <td>East</td>\n",
       "      <td>2341.92</td>\n",
       "    </tr>\n",
       "  </tbody>\n",
       "</table>\n",
       "</div>"
      ],
      "text/plain": [
       "   transaction_id        date  company  customer_id  volume_kg  price_per_kg  \\\n",
       "0               0  2024-04-12  Milkand         1664        149          1.25   \n",
       "1               1  2024-12-14  Milkand         1089       2873          1.23   \n",
       "2               2  2024-09-27  Milkand         1615       2015          1.37   \n",
       "3               3  2024-04-16  Milkand         1947       2536          1.35   \n",
       "4               4  2024-03-12  Milkand         1523       1904          1.23   \n",
       "\n",
       "   cost_per_kg product region  revenue  \n",
       "0         0.74   Dairy  South   186.25  \n",
       "1         0.83   Dairy   West  3533.79  \n",
       "2         0.68   Dairy   West  2760.55  \n",
       "3         0.71   Dairy  North  3423.60  \n",
       "4         0.78   Dairy   East  2341.92  "
      ]
     },
     "execution_count": 5,
     "metadata": {},
     "output_type": "execute_result"
    }
   ],
   "source": [
    "# Option 2\n",
    "milkand = df[df.company==\"Milkand\"]\n",
    "milkand.head()"
   ]
  },
  {
   "cell_type": "markdown",
   "id": "27e4f5a9-50b9-45d8-ac1f-f0b0028dce0b",
   "metadata": {},
   "source": [
    "I recommend getting used to using .loc[] accessor, as it allows for much more complex data selection. For instance:"
   ]
  },
  {
   "cell_type": "code",
   "execution_count": 6,
   "id": "ab37d947-748d-4c60-aa99-f93c54e951ee",
   "metadata": {},
   "outputs": [
    {
     "data": {
      "text/html": [
       "<div>\n",
       "<style scoped>\n",
       "    .dataframe tbody tr th:only-of-type {\n",
       "        vertical-align: middle;\n",
       "    }\n",
       "\n",
       "    .dataframe tbody tr th {\n",
       "        vertical-align: top;\n",
       "    }\n",
       "\n",
       "    .dataframe thead th {\n",
       "        text-align: right;\n",
       "    }\n",
       "</style>\n",
       "<table border=\"1\" class=\"dataframe\">\n",
       "  <thead>\n",
       "    <tr style=\"text-align: right;\">\n",
       "      <th></th>\n",
       "      <th>customer_id</th>\n",
       "      <th>revenue</th>\n",
       "      <th>date</th>\n",
       "    </tr>\n",
       "  </thead>\n",
       "  <tbody>\n",
       "    <tr>\n",
       "      <th>1</th>\n",
       "      <td>1089</td>\n",
       "      <td>3533.79</td>\n",
       "      <td>2024-12-14</td>\n",
       "    </tr>\n",
       "    <tr>\n",
       "      <th>2</th>\n",
       "      <td>1615</td>\n",
       "      <td>2760.55</td>\n",
       "      <td>2024-09-27</td>\n",
       "    </tr>\n",
       "    <tr>\n",
       "      <th>3</th>\n",
       "      <td>1947</td>\n",
       "      <td>3423.60</td>\n",
       "      <td>2024-04-16</td>\n",
       "    </tr>\n",
       "    <tr>\n",
       "      <th>4</th>\n",
       "      <td>1523</td>\n",
       "      <td>2341.92</td>\n",
       "      <td>2024-03-12</td>\n",
       "    </tr>\n",
       "    <tr>\n",
       "      <th>5</th>\n",
       "      <td>1159</td>\n",
       "      <td>2122.80</td>\n",
       "      <td>2024-07-07</td>\n",
       "    </tr>\n",
       "  </tbody>\n",
       "</table>\n",
       "</div>"
      ],
      "text/plain": [
       "   customer_id  revenue        date\n",
       "1         1089  3533.79  2024-12-14\n",
       "2         1615  2760.55  2024-09-27\n",
       "3         1947  3423.60  2024-04-16\n",
       "4         1523  2341.92  2024-03-12\n",
       "5         1159  2122.80  2024-07-07"
      ]
     },
     "execution_count": 6,
     "metadata": {},
     "output_type": "execute_result"
    }
   ],
   "source": [
    "# what are the high value transactions of the Acquirer?\n",
    "high_value_milkand = df.loc[(df['company'] == 'Milkand') & (df['revenue'] > df['revenue'].median()), ['customer_id', 'revenue', 'date']]\n",
    "\n",
    "high_value_milkand.head()"
   ]
  },
  {
   "cell_type": "markdown",
   "id": "95154737-6181-4d65-855f-aba28b0500e4",
   "metadata": {},
   "source": [
    "#### Exercise 1: Restrcit the data for only the two merging firms (Milkand and Orla)"
   ]
  },
  {
   "cell_type": "code",
   "execution_count": 17,
   "id": "a93a5664-5ecd-4fc6-8210-e980aabf05b1",
   "metadata": {},
   "outputs": [],
   "source": [
    "# inspect the name of all competitors with .unique() or .drop_duplicates()\n",
    "\n",
    "\n",
    "# Select only the merging Parties\n",
    "\n"
   ]
  },
  {
   "cell_type": "markdown",
   "id": "b3b0938b-c4f1-4dbf-96a8-ab80e5a07c1b",
   "metadata": {},
   "source": [
    "#### Exercise 2: create two new columns with total cost and total profit per transaction and print the head"
   ]
  },
  {
   "cell_type": "code",
   "execution_count": 30,
   "id": "437bc93c-19de-4b47-b4bc-69e88eec684e",
   "metadata": {},
   "outputs": [],
   "source": [
    "# add your code here\n",
    "\n"
   ]
  },
  {
   "cell_type": "markdown",
   "id": "8682a6bf-2f01-41af-aa26-7987c35cfa08",
   "metadata": {},
   "source": [
    "#### Exercise 3: Restrict the data for only transactions of Orla with greater than 2998 kg and print the head"
   ]
  },
  {
   "cell_type": "code",
   "execution_count": 53,
   "id": "d6b30e33-e732-4d3f-93d8-55dbb77e2a5c",
   "metadata": {},
   "outputs": [],
   "source": [
    "# add your code here\n",
    "\n"
   ]
  },
  {
   "cell_type": "markdown",
   "id": "69d92876-e60e-4338-99f1-487d949b78ea",
   "metadata": {},
   "source": [
    "We can aggregate data in the form we usually do with \"collapse\" in Stata."
   ]
  },
  {
   "cell_type": "code",
   "execution_count": 189,
   "id": "ae0ce426-783d-42f0-9e98-77fa827ec7dc",
   "metadata": {},
   "outputs": [
    {
     "name": "stdout",
     "output_type": "stream",
     "text": [
      "Total revenue per company:\n",
      "company\n",
      "Milkand     12390954.49\n",
      "Orla        11274735.53\n",
      "KMD          8159865.84\n",
      "Campanya     5684254.01\n",
      "Name: revenue, dtype: float64\n"
     ]
    }
   ],
   "source": [
    "print(\"Total revenue per company:\")\n",
    "print(df.groupby('company')['revenue'].sum().sort_values(ascending=False))"
   ]
  },
  {
   "cell_type": "code",
   "execution_count": 190,
   "id": "bf1c037d-f300-4add-a2ba-bd266b0a982b",
   "metadata": {},
   "outputs": [
    {
     "name": "stdout",
     "output_type": "stream",
     "text": [
      "Total volume sold per company:\n"
     ]
    },
    {
     "data": {
      "text/plain": [
       "company\n",
       "Milkand     9916967\n",
       "Orla        8662479\n",
       "KMD         7427409\n",
       "Campanya    4948103\n",
       "Name: volume_kg, dtype: int64"
      ]
     },
     "execution_count": 190,
     "metadata": {},
     "output_type": "execute_result"
    }
   ],
   "source": [
    "print(\"Total volume sold per company:\")\n",
    "df.groupby('company')['volume_kg'].sum().sort_values(ascending=False)"
   ]
  },
  {
   "cell_type": "markdown",
   "id": "616691a4-bacb-4242-960b-e1d757d1dcb1",
   "metadata": {},
   "source": [
    "Now we'll do together a usual workflow in the merger economic assessment. That is:\n",
    "- Calculate market shares and HHI\n",
    "- Compute margins (usually given) and Guppis\n",
    "- Sneak peak visuals"
   ]
  },
  {
   "cell_type": "markdown",
   "id": "a90abe40-b474-4b9d-a5f6-b55845abc5b6",
   "metadata": {},
   "source": [
    "### Market shares"
   ]
  },
  {
   "cell_type": "markdown",
   "id": "3dbac578-e080-46fe-b2b7-7b90f797aa4a",
   "metadata": {},
   "source": [
    "Most of the times, we'll need to calculate market shares... and report them in a formatted way in a Decision, \"Word-ready\". This is something is relatively easy to do in Python, and most consulstancy firms resort to. We will see how to format numbers but there are many examples out there to format tables in a professional way, which we won't see here."
   ]
  },
  {
   "cell_type": "code",
   "execution_count": 9,
   "id": "e3825325",
   "metadata": {},
   "outputs": [
    {
     "name": "stdout",
     "output_type": "stream",
     "text": [
      "    company  volume_kg      revenue  volume_market_share  revenue_market_share\n",
      "0  Campanya    4948103   5684254.01             0.159848              0.151540\n",
      "1       KMD    7427409   8159865.84             0.239942              0.217540\n",
      "2   Milkand    9916967  12390954.49             0.320368              0.330339\n",
      "3      Orla    8662479  11274735.53             0.279841              0.300581\n"
     ]
    }
   ],
   "source": [
    "# Total volume and revenue per firm\n",
    "agg = df.groupby('company', as_index = False)[['volume_kg','revenue']].sum()\n",
    "\n",
    "# Compute market shares\n",
    "agg['volume_market_share'] = agg['volume_kg'] / agg['volume_kg'].sum()\n",
    "agg['revenue_market_share'] = agg['revenue'] / agg['revenue'].sum()\n",
    "\n",
    "print(agg)"
   ]
  },
  {
   "cell_type": "markdown",
   "id": "efde337d-7283-448d-9437-43f6a561259e",
   "metadata": {},
   "source": [
    "To make quick operations that would require a function but aren't complex enough to define a big customized function, we can use **lambda**. This allows us to run quick functions, and together with **.apply()**, we can apply a function to each object in the dataframe.\n",
    "\n",
    "Think of **lambda** as your quick kitchen tool and **.apply()** as your kitchen assistant:\n",
    "\n",
    "    .apply() is like saying: \"Hey assistant, go through each ingredient and do this specific task with it.\n",
    "\n",
    "    lambda is the quick instruction: \"For each ingredient (let's call it 'x'), chop it into small pieces\" or \"For each price, format it as a percentage.\"\n",
    "\n",
    "Together, they let you give quick, one-time instructions without writing a formal recipe (full function). For instance:\n",
    "   \n",
    "    do this operation to each element in this column --> df['column'].apply(operation)\n",
    "\n",
    "    lambda creates a temporary, one-time function --> lambda x: x * 2  # \"Take x, return x times 2\"\n",
    "\n",
    "Equivalent to writing:\n",
    "def double(x):\n",
    "    return x * 2\n",
    "    \n",
    "But much quicker for simple tasks!"
   ]
  },
  {
   "cell_type": "code",
   "execution_count": 10,
   "id": "60c4b300-06cd-4c10-be5d-1d1fc8854107",
   "metadata": {},
   "outputs": [
    {
     "name": "stdout",
     "output_type": "stream",
     "text": [
      "Market Share Summary:\n",
      "    company  volume_kg      revenue volume_market_share revenue_market_share\n",
      "0  Campanya    4948103   5684254.01               16.0%                15.2%\n",
      "1       KMD    7427409   8159865.84               24.0%                21.8%\n",
      "2   Milkand    9916967  12390954.49               32.0%                33.0%\n",
      "3      Orla    8662479  11274735.53               28.0%                30.1%\n"
     ]
    }
   ],
   "source": [
    "# Format as % using lambda.\n",
    "agg_formatted = agg.copy()\n",
    "agg_formatted['volume_market_share'] = agg_formatted['volume_market_share'].apply(lambda x: f\"{x:.1%}\")\n",
    "agg_formatted['revenue_market_share'] = agg_formatted['revenue_market_share'].apply(lambda x: f\"{x:.1%}\")\n",
    "\n",
    "print(\"Market Share Summary:\")\n",
    "print(agg_formatted)"
   ]
  },
  {
   "cell_type": "markdown",
   "id": "ce7547c8-de4a-4e09-a1ff-294bbd995427",
   "metadata": {},
   "source": [
    "#### Exercise 4: Calculate pre HHI and add it to the agg dataframe as column"
   ]
  },
  {
   "cell_type": "code",
   "execution_count": 12,
   "id": "68611bdf-447d-4526-bd88-e470f93ffbea",
   "metadata": {},
   "outputs": [],
   "source": [
    "# add here your code\n",
    "\n"
   ]
  },
  {
   "cell_type": "markdown",
   "id": "714782e1-837b-4d01-89e5-aa186bdec4ed",
   "metadata": {},
   "source": [
    "Now we calculate together the Delta and post HHI"
   ]
  },
  {
   "cell_type": "code",
   "execution_count": 13,
   "id": "8788c507-6baf-4592-b447-61bfa7eff009",
   "metadata": {},
   "outputs": [
    {
     "data": {
      "text/html": [
       "<div>\n",
       "<style scoped>\n",
       "    .dataframe tbody tr th:only-of-type {\n",
       "        vertical-align: middle;\n",
       "    }\n",
       "\n",
       "    .dataframe tbody tr th {\n",
       "        vertical-align: top;\n",
       "    }\n",
       "\n",
       "    .dataframe thead th {\n",
       "        text-align: right;\n",
       "    }\n",
       "</style>\n",
       "<table border=\"1\" class=\"dataframe\">\n",
       "  <thead>\n",
       "    <tr style=\"text-align: right;\">\n",
       "      <th></th>\n",
       "      <th>company</th>\n",
       "      <th>volume_kg</th>\n",
       "      <th>revenue</th>\n",
       "      <th>volume_market_share</th>\n",
       "      <th>revenue_market_share</th>\n",
       "      <th>pre_HHI</th>\n",
       "      <th>delta_HHI</th>\n",
       "      <th>post_HHI</th>\n",
       "    </tr>\n",
       "  </thead>\n",
       "  <tbody>\n",
       "    <tr>\n",
       "      <th>0</th>\n",
       "      <td>Campanya</td>\n",
       "      <td>4948103</td>\n",
       "      <td>5684254.01</td>\n",
       "      <td>0.159848</td>\n",
       "      <td>0.151540</td>\n",
       "      <td>2697.6076</td>\n",
       "      <td>1985.872654</td>\n",
       "      <td>4683.480254</td>\n",
       "    </tr>\n",
       "    <tr>\n",
       "      <th>1</th>\n",
       "      <td>KMD</td>\n",
       "      <td>7427409</td>\n",
       "      <td>8159865.84</td>\n",
       "      <td>0.239942</td>\n",
       "      <td>0.217540</td>\n",
       "      <td>2697.6076</td>\n",
       "      <td>1985.872654</td>\n",
       "      <td>4683.480254</td>\n",
       "    </tr>\n",
       "    <tr>\n",
       "      <th>2</th>\n",
       "      <td>Milkand</td>\n",
       "      <td>9916967</td>\n",
       "      <td>12390954.49</td>\n",
       "      <td>0.320368</td>\n",
       "      <td>0.330339</td>\n",
       "      <td>2697.6076</td>\n",
       "      <td>1985.872654</td>\n",
       "      <td>4683.480254</td>\n",
       "    </tr>\n",
       "    <tr>\n",
       "      <th>3</th>\n",
       "      <td>Orla</td>\n",
       "      <td>8662479</td>\n",
       "      <td>11274735.53</td>\n",
       "      <td>0.279841</td>\n",
       "      <td>0.300581</td>\n",
       "      <td>2697.6076</td>\n",
       "      <td>1985.872654</td>\n",
       "      <td>4683.480254</td>\n",
       "    </tr>\n",
       "  </tbody>\n",
       "</table>\n",
       "</div>"
      ],
      "text/plain": [
       "    company  volume_kg      revenue  volume_market_share  \\\n",
       "0  Campanya    4948103   5684254.01             0.159848   \n",
       "1       KMD    7427409   8159865.84             0.239942   \n",
       "2   Milkand    9916967  12390954.49             0.320368   \n",
       "3      Orla    8662479  11274735.53             0.279841   \n",
       "\n",
       "   revenue_market_share    pre_HHI    delta_HHI     post_HHI  \n",
       "0              0.151540  2697.6076  1985.872654  4683.480254  \n",
       "1              0.217540  2697.6076  1985.872654  4683.480254  \n",
       "2              0.330339  2697.6076  1985.872654  4683.480254  \n",
       "3              0.300581  2697.6076  1985.872654  4683.480254  "
      ]
     },
     "execution_count": 13,
     "metadata": {},
     "output_type": "execute_result"
    }
   ],
   "source": [
    "shares = agg.set_index(\"company\")[\"revenue_market_share\"]\n",
    "\n",
    "shares_post = pd.Series({\n",
    "    \"Campanya\": shares[\"Campanya\"],\n",
    "    \"KMD\": shares[\"KMD\"],\n",
    "    \"Milkand+Orla\": shares[\"Milkand\"] + shares[\"Orla\"]\n",
    "})\n",
    "\n",
    "# Post-merger HHI \n",
    "hhi_post = (shares_post * 100).pow(2).sum()\n",
    "\n",
    "# Delta HHI\n",
    "delta_hhi = hhi_post - hhi_pre\n",
    "\n",
    "# assign it to a column\n",
    "agg['delta_HHI'] = delta_hhi\n",
    "agg['post_HHI'] = hhi_post\n",
    "\n",
    "# print it\n",
    "agg"
   ]
  },
  {
   "cell_type": "markdown",
   "id": "409d6a1b-3b9c-40a5-abed-1a7dde434454",
   "metadata": {},
   "source": [
    "#### Margins and Guppis"
   ]
  },
  {
   "cell_type": "code",
   "execution_count": 14,
   "id": "445e4684-3d80-456a-8e08-58905346b052",
   "metadata": {},
   "outputs": [
    {
     "data": {
      "text/html": [
       "<div>\n",
       "<style scoped>\n",
       "    .dataframe tbody tr th:only-of-type {\n",
       "        vertical-align: middle;\n",
       "    }\n",
       "\n",
       "    .dataframe tbody tr th {\n",
       "        vertical-align: top;\n",
       "    }\n",
       "\n",
       "    .dataframe thead th {\n",
       "        text-align: right;\n",
       "    }\n",
       "</style>\n",
       "<table border=\"1\" class=\"dataframe\">\n",
       "  <thead>\n",
       "    <tr style=\"text-align: right;\">\n",
       "      <th></th>\n",
       "      <th>price_per_kg</th>\n",
       "      <th>cost_per_kg</th>\n",
       "      <th>revenue</th>\n",
       "      <th>margin</th>\n",
       "    </tr>\n",
       "    <tr>\n",
       "      <th>company</th>\n",
       "      <th></th>\n",
       "      <th></th>\n",
       "      <th></th>\n",
       "      <th></th>\n",
       "    </tr>\n",
       "  </thead>\n",
       "  <tbody>\n",
       "    <tr>\n",
       "      <th>Campanya</th>\n",
       "      <td>3680.64</td>\n",
       "      <td>2237.35</td>\n",
       "      <td>5684254.01</td>\n",
       "      <td>0.392130</td>\n",
       "    </tr>\n",
       "    <tr>\n",
       "      <th>KMD</th>\n",
       "      <td>5274.05</td>\n",
       "      <td>3123.37</td>\n",
       "      <td>8159865.84</td>\n",
       "      <td>0.407785</td>\n",
       "    </tr>\n",
       "    <tr>\n",
       "      <th>Milkand</th>\n",
       "      <td>7995.14</td>\n",
       "      <td>4803.74</td>\n",
       "      <td>12390954.49</td>\n",
       "      <td>0.399167</td>\n",
       "    </tr>\n",
       "    <tr>\n",
       "      <th>Orla</th>\n",
       "      <td>7287.08</td>\n",
       "      <td>4485.08</td>\n",
       "      <td>11274735.53</td>\n",
       "      <td>0.384516</td>\n",
       "    </tr>\n",
       "  </tbody>\n",
       "</table>\n",
       "</div>"
      ],
      "text/plain": [
       "          price_per_kg  cost_per_kg      revenue    margin\n",
       "company                                                   \n",
       "Campanya       3680.64      2237.35   5684254.01  0.392130\n",
       "KMD            5274.05      3123.37   8159865.84  0.407785\n",
       "Milkand        7995.14      4803.74  12390954.49  0.399167\n",
       "Orla           7287.08      4485.08  11274735.53  0.384516"
      ]
     },
     "execution_count": 14,
     "metadata": {},
     "output_type": "execute_result"
    }
   ],
   "source": [
    "# we create another df grouping by revenue and cost\n",
    "df1 = df.groupby(\"company\")[[\"price_per_kg\",\"cost_per_kg\",'revenue']].sum()\n",
    "\n",
    "# margin ratio (profitability relative to revenue)\n",
    "df1[\"margin\"] = (df1[\"price_per_kg\"] - df1[\"cost_per_kg\"]) / df1[\"price_per_kg\"]\n",
    "\n",
    "df1"
   ]
  },
  {
   "cell_type": "code",
   "execution_count": 23,
   "id": "dba936b8-d793-4abd-83a9-2eb8342fb8b3",
   "metadata": {},
   "outputs": [
    {
     "name": "stdout",
     "output_type": "stream",
     "text": [
      "company   Campanya  KMD  Milkand  Orla\n",
      "company                               \n",
      "Campanya       NaN  NaN      NaN   NaN\n",
      "KMD            NaN  NaN      NaN   NaN\n",
      "Milkand        NaN  NaN      NaN   NaN\n",
      "Orla           NaN  NaN      NaN   NaN\n",
      "company\n",
      "Campanya    0.151540\n",
      "KMD         0.217540\n",
      "Milkand     0.330339\n",
      "Orla        0.300581\n",
      "Name: revenue, dtype: float64\n"
     ]
    }
   ],
   "source": [
    "# we isolate the shares per player so that then we calculate DR from it\n",
    "shares = df1[\"revenue\"] / df1[\"revenue\"].sum()\n",
    "\n",
    "# we create an empty dataframe to fill then the DR in a loop\n",
    "diversion_matrix = pd.DataFrame(index=shares.index, columns=shares.index, dtype=float)\n",
    "\n",
    "print(diversion_matrix)\n",
    "print(shares)\n"
   ]
  },
  {
   "cell_type": "code",
   "execution_count": 21,
   "id": "b9a13a08-6a95-4b7c-8980-2d42f82edc31",
   "metadata": {},
   "outputs": [
    {
     "data": {
      "text/html": [
       "<div>\n",
       "<style scoped>\n",
       "    .dataframe tbody tr th:only-of-type {\n",
       "        vertical-align: middle;\n",
       "    }\n",
       "\n",
       "    .dataframe tbody tr th {\n",
       "        vertical-align: top;\n",
       "    }\n",
       "\n",
       "    .dataframe thead th {\n",
       "        text-align: right;\n",
       "    }\n",
       "</style>\n",
       "<table border=\"1\" class=\"dataframe\">\n",
       "  <thead>\n",
       "    <tr style=\"text-align: right;\">\n",
       "      <th>company</th>\n",
       "      <th>Campanya</th>\n",
       "      <th>KMD</th>\n",
       "      <th>Milkand</th>\n",
       "      <th>Orla</th>\n",
       "    </tr>\n",
       "    <tr>\n",
       "      <th>company</th>\n",
       "      <th></th>\n",
       "      <th></th>\n",
       "      <th></th>\n",
       "      <th></th>\n",
       "    </tr>\n",
       "  </thead>\n",
       "  <tbody>\n",
       "    <tr>\n",
       "      <th>Campanya</th>\n",
       "      <td>NaN</td>\n",
       "      <td>0.256394</td>\n",
       "      <td>0.389340</td>\n",
       "      <td>0.354267</td>\n",
       "    </tr>\n",
       "    <tr>\n",
       "      <th>KMD</th>\n",
       "      <td>0.193672</td>\n",
       "      <td>NaN</td>\n",
       "      <td>0.422180</td>\n",
       "      <td>0.384148</td>\n",
       "    </tr>\n",
       "    <tr>\n",
       "      <th>Milkand</th>\n",
       "      <td>0.226294</td>\n",
       "      <td>0.324850</td>\n",
       "      <td>NaN</td>\n",
       "      <td>0.448855</td>\n",
       "    </tr>\n",
       "    <tr>\n",
       "      <th>Orla</th>\n",
       "      <td>0.216666</td>\n",
       "      <td>0.311029</td>\n",
       "      <td>0.472305</td>\n",
       "      <td>NaN</td>\n",
       "    </tr>\n",
       "  </tbody>\n",
       "</table>\n",
       "</div>"
      ],
      "text/plain": [
       "company   Campanya       KMD   Milkand      Orla\n",
       "company                                         \n",
       "Campanya       NaN  0.256394  0.389340  0.354267\n",
       "KMD       0.193672       NaN  0.422180  0.384148\n",
       "Milkand   0.226294  0.324850       NaN  0.448855\n",
       "Orla      0.216666  0.311029  0.472305       NaN"
      ]
     },
     "execution_count": 21,
     "metadata": {},
     "output_type": "execute_result"
    }
   ],
   "source": [
    "# we loop to fill the empty dataframe\n",
    "for i in shares.index:\n",
    "    rivals = shares.drop(i)\n",
    "    diversion_matrix.loc[i] = rivals / rivals.sum()\n",
    "\n",
    "diversion_matrix"
   ]
  },
  {
   "cell_type": "code",
   "execution_count": 204,
   "id": "90f42e3e-cb70-4c1b-bc2f-8f151b51a9a4",
   "metadata": {},
   "outputs": [],
   "source": [
    "guppi_matrix = pd.DataFrame(index=shares.index, columns=shares.index, dtype=float)"
   ]
  },
  {
   "cell_type": "code",
   "execution_count": 209,
   "id": "4c7a9556-91b0-47de-8bda-25248fd72f83",
   "metadata": {},
   "outputs": [
    {
     "data": {
      "text/html": [
       "<div>\n",
       "<style scoped>\n",
       "    .dataframe tbody tr th:only-of-type {\n",
       "        vertical-align: middle;\n",
       "    }\n",
       "\n",
       "    .dataframe tbody tr th {\n",
       "        vertical-align: top;\n",
       "    }\n",
       "\n",
       "    .dataframe thead th {\n",
       "        text-align: right;\n",
       "    }\n",
       "</style>\n",
       "<table border=\"1\" class=\"dataframe\">\n",
       "  <thead>\n",
       "    <tr style=\"text-align: right;\">\n",
       "      <th>company</th>\n",
       "      <th>Campanya</th>\n",
       "      <th>KMD</th>\n",
       "      <th>Milkand</th>\n",
       "      <th>Orla</th>\n",
       "    </tr>\n",
       "    <tr>\n",
       "      <th>company</th>\n",
       "      <th></th>\n",
       "      <th></th>\n",
       "      <th></th>\n",
       "      <th></th>\n",
       "    </tr>\n",
       "  </thead>\n",
       "  <tbody>\n",
       "    <tr>\n",
       "      <th>Campanya</th>\n",
       "      <td>NaN</td>\n",
       "      <td>10.455350</td>\n",
       "      <td>15.541178</td>\n",
       "      <td>13.622128</td>\n",
       "    </tr>\n",
       "    <tr>\n",
       "      <th>KMD</th>\n",
       "      <td>7.594452</td>\n",
       "      <td>NaN</td>\n",
       "      <td>16.852047</td>\n",
       "      <td>14.771129</td>\n",
       "    </tr>\n",
       "    <tr>\n",
       "      <th>Milkand</th>\n",
       "      <td>8.873683</td>\n",
       "      <td>13.246914</td>\n",
       "      <td>NaN</td>\n",
       "      <td>17.259218</td>\n",
       "    </tr>\n",
       "    <tr>\n",
       "      <th>Orla</th>\n",
       "      <td>8.496136</td>\n",
       "      <td>12.683300</td>\n",
       "      <td>18.852877</td>\n",
       "      <td>NaN</td>\n",
       "    </tr>\n",
       "  </tbody>\n",
       "</table>\n",
       "</div>"
      ],
      "text/plain": [
       "company   Campanya        KMD    Milkand       Orla\n",
       "company                                            \n",
       "Campanya       NaN  10.455350  15.541178  13.622128\n",
       "KMD       7.594452        NaN  16.852047  14.771129\n",
       "Milkand   8.873683  13.246914        NaN  17.259218\n",
       "Orla      8.496136  12.683300  18.852877        NaN"
      ]
     },
     "execution_count": 209,
     "metadata": {},
     "output_type": "execute_result"
    }
   ],
   "source": [
    "for i in shares.index:\n",
    "    ''' How much firm i could profitably raise prices if it merged with j, \n",
    "    weighted by j’s margin and the diversion between them'''\n",
    "    \n",
    "    for j in shares.index:\n",
    "        if i != j:\n",
    "            guppi_matrix.loc[i, j] = diversion_matrix.loc[i, j] * df1.loc[j, \"margin\"]\n",
    "        else:\n",
    "            guppi_matrix.loc[i, j] = np.nan\n",
    "\n",
    "guppi_matrix = guppi_matrix * 100  # convert to %\n",
    "\n",
    "guppi_matrix"
   ]
  },
  {
   "cell_type": "markdown",
   "id": "b98d927d-7ad9-47c7-aa24-0d8e4b435b14",
   "metadata": {},
   "source": [
    "We will see more types of plots with matplotlib and seaborn in the 3rd session, but for matrix type data as this, heatmaps come in handy no? We can then quickly see that the worst possible Guppi is the one that results from the merging Parties."
   ]
  },
  {
   "cell_type": "code",
   "execution_count": 210,
   "id": "866024e6-93bc-4f2c-a44c-5f46fe160434",
   "metadata": {},
   "outputs": [
    {
     "data": {
      "image/png": "[encoded data removed]",
      "text/plain": [
       "<Figure size 600x500 with 2 Axes>"
      ]
     },
     "metadata": {},
     "output_type": "display_data"
    }
   ],
   "source": [
    "import matplotlib.pyplot as plt\n",
    "import seaborn as sns\n",
    "\n",
    "plt.figure(figsize=(6,5))\n",
    "sns.heatmap(guppi_matrix, annot=True, fmt=\".2f\", cmap=\"Reds\", cbar_kws={'label': 'GUPPI (%)'})\n",
    "plt.title(\"GUPPI Matrix based on Margins and Diversion Ratios\")\n",
    "plt.show()"
   ]
  },
  {
   "cell_type": "markdown",
   "id": "e5fcc48c-c71b-4caf-bfa6-d5e3dd96e9a3",
   "metadata": {},
   "source": [
    "With Pandas we can also plot some basic maps in a built-in way. They are handy because they don't require a lot of coding, but they are mostly basic."
   ]
  },
  {
   "cell_type": "code",
   "execution_count": 214,
   "id": "ad65f87a-8ed2-42ed-9163-f69dd11c7c84",
   "metadata": {},
   "outputs": [
    {
     "name": "stdout",
     "output_type": "stream",
     "text": [
      "Monthly revenue by company:\n"
     ]
    },
    {
     "data": {
      "text/html": [
       "<div>\n",
       "<style scoped>\n",
       "    .dataframe tbody tr th:only-of-type {\n",
       "        vertical-align: middle;\n",
       "    }\n",
       "\n",
       "    .dataframe tbody tr th {\n",
       "        vertical-align: top;\n",
       "    }\n",
       "\n",
       "    .dataframe thead th {\n",
       "        text-align: right;\n",
       "    }\n",
       "</style>\n",
       "<table border=\"1\" class=\"dataframe\">\n",
       "  <thead>\n",
       "    <tr style=\"text-align: right;\">\n",
       "      <th>company</th>\n",
       "      <th>Campanya</th>\n",
       "      <th>KMD</th>\n",
       "      <th>Milkand</th>\n",
       "      <th>Orla</th>\n",
       "    </tr>\n",
       "    <tr>\n",
       "      <th>date</th>\n",
       "      <th></th>\n",
       "      <th></th>\n",
       "      <th></th>\n",
       "      <th></th>\n",
       "    </tr>\n",
       "  </thead>\n",
       "  <tbody>\n",
       "    <tr>\n",
       "      <th>2024-08-31</th>\n",
       "      <td>518501.03</td>\n",
       "      <td>696443.27</td>\n",
       "      <td>1069266.67</td>\n",
       "      <td>874406.00</td>\n",
       "    </tr>\n",
       "    <tr>\n",
       "      <th>2024-09-30</th>\n",
       "      <td>428871.28</td>\n",
       "      <td>672773.60</td>\n",
       "      <td>978533.68</td>\n",
       "      <td>978374.61</td>\n",
       "    </tr>\n",
       "    <tr>\n",
       "      <th>2024-10-31</th>\n",
       "      <td>468807.30</td>\n",
       "      <td>705440.22</td>\n",
       "      <td>1020516.13</td>\n",
       "      <td>913239.51</td>\n",
       "    </tr>\n",
       "    <tr>\n",
       "      <th>2024-11-30</th>\n",
       "      <td>461725.81</td>\n",
       "      <td>709725.87</td>\n",
       "      <td>979019.62</td>\n",
       "      <td>981369.43</td>\n",
       "    </tr>\n",
       "    <tr>\n",
       "      <th>2024-12-31</th>\n",
       "      <td>436919.16</td>\n",
       "      <td>658087.76</td>\n",
       "      <td>1113079.28</td>\n",
       "      <td>970719.38</td>\n",
       "    </tr>\n",
       "  </tbody>\n",
       "</table>\n",
       "</div>"
      ],
      "text/plain": [
       "company      Campanya        KMD     Milkand       Orla\n",
       "date                                                   \n",
       "2024-08-31  518501.03  696443.27  1069266.67  874406.00\n",
       "2024-09-30  428871.28  672773.60   978533.68  978374.61\n",
       "2024-10-31  468807.30  705440.22  1020516.13  913239.51\n",
       "2024-11-30  461725.81  709725.87   979019.62  981369.43\n",
       "2024-12-31  436919.16  658087.76  1113079.28  970719.38"
      ]
     },
     "execution_count": 214,
     "metadata": {},
     "output_type": "execute_result"
    }
   ],
   "source": [
    "# We will not cover this here, but having datetime information (time series) allows us to do many types of aggregations, such as \n",
    "# monthly revenue per company\n",
    "df['date'] = pd.to_datetime(df['date'])\n",
    "df_time = df.set_index('date')\n",
    "\n",
    "# Monthly revenue per company using resample to aggregate at month level\n",
    "monthly_revenue = df_time.groupby('company').resample('M')['revenue'].sum().unstack('company').fillna(0)\n",
    "\n",
    "print(\"Monthly revenue by company:\")\n",
    "monthly_revenue.tail()\n"
   ]
  },
  {
   "cell_type": "code",
   "execution_count": 213,
   "id": "73c419b0-5dca-4461-9700-b5b701b6e750",
   "metadata": {},
   "outputs": [
    {
     "data": {
      "text/plain": [
       "<Axes: title={'center': 'Monthly Revenue by Company (2024)'}, xlabel='date'>"
      ]
     },
     "execution_count": 213,
     "metadata": {},
     "output_type": "execute_result"
    },
    {
     "data": {
      "image/png": "[encoded data removed]",
      "text/plain": [
       "<Figure size 640x480 with 1 Axes>"
      ]
     },
     "metadata": {},
     "output_type": "display_data"
    }
   ],
   "source": [
    "# quick graph with no aesthetics (for aesthetics we need matplotlib)\n",
    "monthly_revenue.plot(kind='line', title='Monthly Revenue by Company (2024)')"
   ]
  }
 ],
 "metadata": {
  "kernelspec": {
   "display_name": "Python 3 (ipykernel)",
   "language": "python",
   "name": "python3"
  },
  "language_info": {
   "codemirror_mode": {
    "name": "ipython",
    "version": 3
   },
   "file_extension": ".py",
   "mimetype": "text/x-python",
   "name": "python",
   "nbconvert_exporter": "python",
   "pygments_lexer": "ipython3",
   "version": "3.12.7"
  }
 },
 "nbformat": 4,
 "nbformat_minor": 5
}
