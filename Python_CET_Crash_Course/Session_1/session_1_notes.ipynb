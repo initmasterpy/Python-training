{
 "cells": [
  {
   "cell_type": "markdown",
   "id": "990f7304",
   "metadata": {},
   "source": [
    "# Python Fundamentals\n",
    "\n",
    "Python is often described as a high-level, object-oriented language that emphasizes readability and simplicity. But what does this really mean? At its core, Python is designed to let you express ideas with minimal effort, much like having a natural conversation rather than deciphering complex machine instructions. Unlike Stata, which is command-driven, Python is more like a versatile toolbox, allowing you to construct solutions with reusable and flexible components.\n",
    "\n",
    "A key concept in Python is that everything is an object—numbers, text, lists, functions, and even the modules you import are all objects with properties (attributes) and actions they can perform (methods). Think of it like everyday objects: a car has attributes (color, brand, speed) and methods (accelerate, brake, honk). Similarly, a string in Python has attributes (its length) and methods (.upper() to capitalize it). This design makes Python intuitive and powerful. To \"speak Python,\" you need to think in terms of objects and their interactions—just as you describe real-world objects and what they can do.\n"
   ]
  },
  {
   "cell_type": "code",
   "execution_count": 4,
   "id": "4c84c8e0",
   "metadata": {},
   "outputs": [
    {
     "name": "stdout",
     "output_type": "stream",
     "text": [
      "Hello CETers!\n"
     ]
    }
   ],
   "source": [
    "print(\"Hello CETers!\")"
   ]
  },
  {
   "cell_type": "markdown",
   "id": "36c69655",
   "metadata": {},
   "source": [
    "### 0. Understanding what it means that Python is an object-oriented language, its logic and syntaxis, how data is stored, and conceptual differences in compared to Stata\n",
    "\n",
    "When we say Python is an object-oriented language, think of it like organizing your tools in a toolbox. Each tool is like an \"object\" – say, a hammer or screwdriver – with its unique purpose and features. In Python, everything you use is an object, whether it’s a simple number, a text string, or a complex data structure. These objects are based on \"classes,\" which you can think of as blueprints for creating specific tools, defining what the objects can do and how they work.\n",
    "\n",
    "Because Python uses this approach, it makes it easier to organize and manage your code, especially as your projects get bigger. You can build your own custom tools (objects) by defining classes, and reuse them whenever needed. This concept is different from some other programming styles where operations are handled in a more straightforward, step-by-step manner without this kind of blueprint-based organization.\n",
    "\n",
    "Comparing Python to Stata, which is software specifically designed for statistical analysis, there's a notable difference. Stata is more like a powerful calculator that lets you directly perform statistical tasks with simple commands. It’s tailored for data analysis functions and is quite user-friendly for that purpose. You type a command, and it processes the data accordingly.\n",
    "\n",
    "On the other hand, Python is more like a Swiss Army knife. It’s highly versatile and can handle a wide range of tasks beyond just data analysis, such as building websites, automating tasks, and more. This versatility comes with a bit more complexity because you might have to understand some programming concepts to fully take advantage of it. But it also means Python offers more flexibility and power when you need to create custom solutions or handle various tasks within a single environment.\n",
    "\n"
   ]
  },
  {
   "cell_type": "markdown",
   "id": "817309ab",
   "metadata": {},
   "source": [
    "### 1. Basic Data Types and Structures\n",
    "\n",
    "Python has several built-in data types that serve as the foundation for all programming tasks. Here are the most common ones:"
   ]
  },
  {
   "cell_type": "code",
   "execution_count": 1,
   "id": "6220fa5b",
   "metadata": {},
   "outputs": [
    {
     "name": "stdout",
     "output_type": "stream",
     "text": [
      "integer: -10\n",
      "float: 3.14\n",
      "string: Python\n",
      "True False\n",
      "string: ['apple', 'banana', 'cherry']\n",
      "tuple: (40.7128, -74.006)\n",
      "dictionary: {'name': 'Alice', 'age': 30}\n",
      "set: {1, 2, 3}\n"
     ]
    }
   ],
   "source": [
    "# Integers (int) – Whole numbers, positive or negative.\n",
    "print(\"integer:\", -10)\n",
    "\n",
    "# Floating-Point Numbers (float) – Numbers with decimals. To create floats, we can just use a decimal (.) point:.\n",
    "print(\"float:\", 3.14)\n",
    "\n",
    "# Strings (str) – Text enclosed in quotes.\n",
    "print(\"string:\", \"Python\")\n",
    "\n",
    "# Booleans (bool) – Represent True or False values.\n",
    "print(True, False)\n",
    "\n",
    "# Lists (list) – Ordered, mutable, iterable collections of items.\n",
    "fruits = [\"apple\", \"banana\", \"cherry\"]\n",
    "print(\"string:\",fruits)\n",
    "\n",
    "# Tuples (tuple) – Ordered, immutable, iterable collections.\n",
    "coordinates = (40.7128, -74.0060)\n",
    "print(\"tuple:\",coordinates)\n",
    "\n",
    "# Dictionaries (dict) – Key-value pairs for fast lookups.\n",
    "person = {\"name\": \"Alice\", \"age\": 30}\n",
    "print(\"dictionary:\",person)\n",
    "\n",
    "# Sets (set) – Unordered collections of unique values.\n",
    "unique_numbers = {1, 2, 3, 3, 2} # → {1, 2, 3}\n",
    "print(\"set:\",unique_numbers)"
   ]
  },
  {
   "cell_type": "markdown",
   "id": "c1e12589",
   "metadata": {},
   "source": [
    "Something that's worth mentioning, float numbers sometimes do not have an exact internal representation when they're stored in your machine. For instance:"
   ]
  },
  {
   "cell_type": "code",
   "execution_count": 10,
   "id": "d7a48e6d",
   "metadata": {},
   "outputs": [
    {
     "name": "stdout",
     "output_type": "stream",
     "text": [
      "0.1\n",
      "0.1000000000000000055511151\n"
     ]
    }
   ],
   "source": [
    "print(0.1)\n",
    "print(format(0.1, '.25f')) # print 0.1 rounding to its 25th decimal using the format function (functions explained later)"
   ]
  },
  {
   "cell_type": "markdown",
   "id": "f61744be",
   "metadata": {},
   "source": [
    "This is a fundamental concept in computer science, and it's not just Python. Almost all programming languages that use standard floating-point numbers (like float in Python) cannot store 0.1 as exactly 0.1. The reason mostly lies in the difference between how humans represent numbers (decimal, base-10) and how computers represent them (binary, base-2). A decimal number can be represented exactly in binary floating-point if and only if it can be expressed as a fraction where the denominator is a power of 2.\n",
    " \n",
    "This is not super important but it's good to remember, as the output we're seeing is Python's string representation — that is, just text printed to the terminal, not the actual internal value.\n",
    "\n",
    "Python tries to make things more readable by formatting numbers in a user-friendly way. However, this can hide what’s really going on under the hood."
   ]
  },
  {
   "cell_type": "markdown",
   "id": "eadaef2a",
   "metadata": {},
   "source": [
    "Not remembering this could lead to not understanding the following:"
   ]
  },
  {
   "cell_type": "code",
   "execution_count": 18,
   "id": "ba3f7d00",
   "metadata": {},
   "outputs": [
    {
     "name": "stdout",
     "output_type": "stream",
     "text": [
      "False\n",
      "True\n"
     ]
    }
   ],
   "source": [
    "# we use \"==\" to make an assertion.\n",
    "print(0.1 + 0.1 + 0.1 == 0.3) \n",
    "\n",
    "#However, a float such as 0.125, which is 1/8, is therefore representable as a finite binary fraction (1/2^3).\n",
    "print(0.125 + 0.125 + 0.125 == 0.375)"
   ]
  },
  {
   "cell_type": "markdown",
   "id": "77f79421",
   "metadata": {},
   "source": [
    "The fact that 0.1 cannot be stored exactly as 0.1 in binary floating-point does not mean that you can't perform arithmetic operations with it. It just means that the numbers involved in the calculation are incredibly close approximations of the true decimal value."
   ]
  },
  {
   "cell_type": "code",
   "execution_count": 35,
   "id": "160d6f7c",
   "metadata": {},
   "outputs": [
    {
     "name": "stdout",
     "output_type": "stream",
     "text": [
      "0.3\n"
     ]
    }
   ],
   "source": [
    "print(format(0.1 + 0.1 + 0.1, '.1f'))"
   ]
  },
  {
   "cell_type": "markdown",
   "id": "fb4a6453",
   "metadata": {},
   "source": [
    "### 2. Variables\n",
    "\n",
    "\n",
    "\n",
    "We can use the `=` symbol as the assignment operator. \n",
    "\n",
    "When naming objects we should consider using naming conventions: best practices for naming variables (e.g., using lowercase letters, underscores).\n",
    "\n",
    "Python coders typically follow a standard naming convention for variable names. Depending on the type of variable, there are different conventions.\n",
    "\n",
    "In particular, you should follow the PEP8 conventions: https://www.python.org/dev/peps/pep-0008/\n",
    "\n",
    "You should try reading this guide once in a while (not all in one sitting, but just here and there as time permits - it's quite useful).\n",
    "\n",
    "\n",
    "\n",
    "\n"
   ]
  },
  {
   "cell_type": "markdown",
   "id": "532fb45e",
   "metadata": {},
   "source": [
    "Assign values to variables"
   ]
  },
  {
   "cell_type": "code",
   "execution_count": 36,
   "id": "c9214b77",
   "metadata": {},
   "outputs": [],
   "source": [
    "# Assigning an integer\n",
    "age = 30\n",
    "\n",
    "# Assigning a float\n",
    "height = 5.9\n",
    "\n",
    "# Assigning a string\n",
    "name = \"Alice\"\n",
    "\n",
    "# Assigning a boolean\n",
    "is_student = True"
   ]
  },
  {
   "cell_type": "markdown",
   "id": "7bf5f730",
   "metadata": {},
   "source": [
    "Checking data types"
   ]
  },
  {
   "cell_type": "code",
   "execution_count": 38,
   "id": "5a6ed426",
   "metadata": {},
   "outputs": [
    {
     "name": "stdout",
     "output_type": "stream",
     "text": [
      "<class 'int'>\n",
      "<class 'float'>\n",
      "<class 'str'>\n",
      "<class 'bool'>\n"
     ]
    }
   ],
   "source": [
    "print(type(age))        # Output: <class 'int'>\n",
    "print(type(height))     # Output: <class 'float'>\n",
    "print(type(name))       # Output: <class 'str'>\n",
    "print(type(is_student)) # Output: <class 'bool'>"
   ]
  },
  {
   "cell_type": "markdown",
   "id": "839e6daf",
   "metadata": {},
   "source": [
    "Type conversion: How to convert between different data types using functions like int(), float(), str(), and bool()."
   ]
  },
  {
   "cell_type": "code",
   "execution_count": 39,
   "id": "e12adbff",
   "metadata": {},
   "outputs": [],
   "source": [
    "# Converting float to int\n",
    "height_int = int(height)  # 5\n",
    "\n",
    "# Converting int to float\n",
    "age_float = float(age)    # 30.0\n",
    "\n",
    "# Converting int to string\n",
    "age_str = str(age)        # \"30\"\n",
    "\n",
    "# Converting string to int\n",
    "age_from_str = int(age_str)  # 30\n"
   ]
  },
  {
   "cell_type": "markdown",
   "id": "a474dafd",
   "metadata": {},
   "source": [
    "Dynamic typing: Understanding that Python variables can change type based on the assigned value."
   ]
  },
  {
   "cell_type": "code",
   "execution_count": 40,
   "id": "70d9934f",
   "metadata": {},
   "outputs": [
    {
     "name": "stdout",
     "output_type": "stream",
     "text": [
      "<class 'int'>\n",
      "<class 'str'>\n"
     ]
    }
   ],
   "source": [
    "# Variable initially holds an integer\n",
    "var = 10\n",
    "print(type(var))  # Output: <class 'int'>\n",
    "\n",
    "# Now assigning a string to the same variable\n",
    "var = \"Ten\"\n",
    "print(type(var))  # Output: <class 'str'>\n"
   ]
  },
  {
   "cell_type": "markdown",
   "id": "530906a6",
   "metadata": {},
   "source": [
    "Variable reassignment: How to update the value of an existing variable."
   ]
  },
  {
   "cell_type": "code",
   "execution_count": 41,
   "id": "4357c49a",
   "metadata": {},
   "outputs": [
    {
     "name": "stdout",
     "output_type": "stream",
     "text": [
      "1\n",
      "2\n"
     ]
    }
   ],
   "source": [
    "counter = 1\n",
    "print(counter)  # Output: 1\n",
    "\n",
    "counter = counter + 1\n",
    "print(counter)  # Output: 2\n"
   ]
  },
  {
   "cell_type": "markdown",
   "id": "de377d0c",
   "metadata": {},
   "source": [
    "Now `x` is a symbol (variable) in our program that we can invoke or recall."
   ]
  },
  {
   "cell_type": "code",
   "execution_count": 28,
   "id": "a713bd93",
   "metadata": {},
   "outputs": [
    {
     "data": {
      "text/plain": [
       "10"
      ]
     },
     "execution_count": 28,
     "metadata": {},
     "output_type": "execute_result"
    }
   ],
   "source": [
    "x"
   ]
  },
  {
   "cell_type": "code",
   "execution_count": 31,
   "id": "5a1c3654",
   "metadata": {},
   "outputs": [
    {
     "name": "stdout",
     "output_type": "stream",
     "text": [
      "20\n"
     ]
    }
   ],
   "source": [
    "# We can use it in subsequent parts of our code:\n",
    "y = x + 10\n",
    "print(y)"
   ]
  },
  {
   "cell_type": "markdown",
   "id": "28b13b29",
   "metadata": {},
   "source": [
    "\n",
    "\n",
    "As you can see, here we performed a calculation in the right hand side, and assigned that resulting value to the label on the left (b).\n",
    "\n",
    "Note that the = symbol is not the same as the mathematical equality symbol, so something like this is not valid Python, and we'll get an exception (or error):\n"
   ]
  },
  {
   "cell_type": "code",
   "execution_count": 32,
   "id": "64a48132",
   "metadata": {},
   "outputs": [
    {
     "ename": "SyntaxError",
     "evalue": "cannot assign to literal (2975699964.py, line 1)",
     "output_type": "error",
     "traceback": [
      "\u001b[1;36m  Cell \u001b[1;32mIn[32], line 1\u001b[1;36m\u001b[0m\n\u001b[1;33m    10=10\u001b[0m\n\u001b[1;37m    ^\u001b[0m\n\u001b[1;31mSyntaxError\u001b[0m\u001b[1;31m:\u001b[0m cannot assign to literal\n"
     ]
    }
   ],
   "source": [
    "10=10"
   ]
  },
  {
   "cell_type": "code",
   "execution_count": 34,
   "id": "3e8550e1",
   "metadata": {},
   "outputs": [
    {
     "name": "stdout",
     "output_type": "stream",
     "text": [
      "3.14\n"
     ]
    }
   ],
   "source": [
    "# we can reassign different variables\n",
    "x = 3.14\n",
    "print(x) # no longer x == 10"
   ]
  },
  {
   "cell_type": "markdown",
   "id": "f6336375",
   "metadata": {},
   "source": [
    "We should also be careful when naming our variables as labels that Python has already previously defined. For instance, we could rename the symbol `float`, which Python uses to represent the float data type:"
   ]
  },
  {
   "cell_type": "code",
   "execution_count": 52,
   "id": "c058424f",
   "metadata": {},
   "outputs": [
    {
     "ename": "TypeError",
     "evalue": "'int' object is not callable",
     "output_type": "error",
     "traceback": [
      "\u001b[1;31m---------------------------------------------------------------------------\u001b[0m",
      "\u001b[1;31mTypeError\u001b[0m                                 Traceback (most recent call last)",
      "Cell \u001b[1;32mIn[52], line 8\u001b[0m\n\u001b[0;32m      5\u001b[0m \u001b[38;5;28mfloat\u001b[39m \u001b[38;5;241m=\u001b[39m \u001b[38;5;241m20\u001b[39m\n\u001b[0;32m      7\u001b[0m \u001b[38;5;66;03m# now we get an error when we do as the original definition has been lost to us (although Python still has it)\u001b[39;00m\n\u001b[1;32m----> 8\u001b[0m a \u001b[38;5;241m=\u001b[39m \u001b[38;5;28;43mfloat\u001b[39;49m\u001b[43m(\u001b[49m\u001b[38;5;241;43m10\u001b[39;49m\u001b[43m)\u001b[49m\n",
      "\u001b[1;31mTypeError\u001b[0m: 'int' object is not callable"
     ]
    }
   ],
   "source": [
    "# Representing a float number\n",
    "a = float(10)\n",
    "\n",
    "# remapping the float symbol\n",
    "float = 20\n",
    "\n",
    "# now we get an error when we do as the original definition has been lost to us (although Python still has it)\n",
    "a = float(10)\n"
   ]
  },
  {
   "cell_type": "code",
   "execution_count": 53,
   "id": "23d636d6",
   "metadata": {},
   "outputs": [],
   "source": [
    "# we can simply delete our definition\n",
    "del float\n",
    "\n",
    "# no error now\n",
    "a = float(10)"
   ]
  },
  {
   "cell_type": "markdown",
   "id": "e73ad569",
   "metadata": {},
   "source": [
    "Python developers typically follow a standard naming convention for variable names. Depending on the type of variable, there are different conventions.\n",
    "\n",
    "In particular, we follow the PEP8 conventions:\n",
    "\n",
    "https://www.python.org/dev/peps/pep-0008/\n",
    "\n",
    "You should try checking this guide once in a while if you use Python extensively. Otherwise you can access a short version in a poem form by typing the following:\n"
   ]
  },
  {
   "cell_type": "code",
   "execution_count": 55,
   "id": "03b3ad65",
   "metadata": {},
   "outputs": [
    {
     "name": "stdout",
     "output_type": "stream",
     "text": [
      "The Zen of Python, by Tim Peters\n",
      "\n",
      "Beautiful is better than ugly.\n",
      "Explicit is better than implicit.\n",
      "Simple is better than complex.\n",
      "Complex is better than complicated.\n",
      "Flat is better than nested.\n",
      "Sparse is better than dense.\n",
      "Readability counts.\n",
      "Special cases aren't special enough to break the rules.\n",
      "Although practicality beats purity.\n",
      "Errors should never pass silently.\n",
      "Unless explicitly silenced.\n",
      "In the face of ambiguity, refuse the temptation to guess.\n",
      "There should be one-- and preferably only one --obvious way to do it.\n",
      "Although that way may not be obvious at first unless you're Dutch.\n",
      "Now is better than never.\n",
      "Although never is often better than *right* now.\n",
      "If the implementation is hard to explain, it's a bad idea.\n",
      "If the implementation is easy to explain, it may be a good idea.\n",
      "Namespaces are one honking great idea -- let's do more of those!\n"
     ]
    }
   ],
   "source": [
    "import this"
   ]
  },
  {
   "cell_type": "markdown",
   "id": "35740271",
   "metadata": {},
   "source": [
    "### 3. Built-in methods for data analysis"
   ]
  },
  {
   "cell_type": "markdown",
   "id": "1350717c",
   "metadata": {},
   "source": [
    "Python has several built-in methods and functions that are useful for basic data analysis, even before importing any external libraries like pandas or numpy."
   ]
  },
  {
   "cell_type": "markdown",
   "id": "42d1ddc6",
   "metadata": {},
   "source": [
    "`sum(iterable)`: Returns the total sum.\n",
    "\n",
    "`len(iterable)`: Returns the number of items.\n",
    "\n",
    "`min(iterable)`: Returns the smallest item.\n",
    "\n",
    "`max(iterable)`: Returns the largest item.\n",
    "\n",
    "`sorted(iterable, key=None, reverse=False)`: Returns a sorted list.\n",
    "\n",
    "`round(number[, ndigits])`: Rounds a number to a given precision."
   ]
  },
  {
   "cell_type": "code",
   "execution_count": 59,
   "id": "f5e611f3",
   "metadata": {},
   "outputs": [
    {
     "name": "stdout",
     "output_type": "stream",
     "text": [
      "3.0\n"
     ]
    }
   ],
   "source": [
    "# for example\n",
    "data = [1, 2, 3, 4, 5]\n",
    "average = sum(data) / len(data)\n",
    "print(average)"
   ]
  },
  {
   "cell_type": "markdown",
   "id": "d9e4c659",
   "metadata": {},
   "source": [
    "The data structures we saw above `list` `dict` `set` and `tuple` also allow for certain built-in methods such as `.append()`, `.remove()`, `.keys()`, `.values()`, `.items()`, `.count()` or `.index()`."
   ]
  },
  {
   "cell_type": "code",
   "execution_count": null,
   "id": "843c779f",
   "metadata": {},
   "outputs": [
    {
     "name": "stdout",
     "output_type": "stream",
     "text": [
      "2\n",
      "{1: 1, 2: 2, 3: 1}\n"
     ]
    }
   ],
   "source": [
    "#For example\n",
    "data = [1, 2, 2, 3] # a list\n",
    "print(data.count(2)) # counts the number of items that we input\n",
    "\n"
   ]
  },
  {
   "cell_type": "code",
   "execution_count": 72,
   "id": "32f8380b",
   "metadata": {},
   "outputs": [
    {
     "name": "stdout",
     "output_type": "stream",
     "text": [
      "{1: 1, 2: 2, 3: 1}\n",
      "{1: 1}\n",
      "{2: 2}\n",
      "{3: 1}\n"
     ]
    }
   ],
   "source": [
    "# we can also apply a built-in function to iterate over an object\n",
    "# This is a dict comprehension, basically a loop in one line. Fast and readable data transformation\n",
    "counts = {x: data.count(x) for x in set(data)} \n",
    "print(counts)\n",
    "\n",
    "# this would be equivalent\n",
    "for x in set(data):\n",
    "    print({x: data.count(x)})"
   ]
  },
  {
   "cell_type": "markdown",
   "id": "addebf5d",
   "metadata": {},
   "source": [
    "Python also has built-in modules or libraries that we can simply import and use. However, most of them we will need to install ourselves."
   ]
  },
  {
   "cell_type": "code",
   "execution_count": 82,
   "id": "784a7bd7",
   "metadata": {},
   "outputs": [
    {
     "name": "stdout",
     "output_type": "stream",
     "text": [
      "This is Counter: Counter({'a': 2, 'b': 1})\n",
      "This is itertools [('a', 'b'), ('a', 'c'), ('b', 'c')]\n",
      "This is math: 4.0\n",
      "This is datetime: 2025-06-03 18:48:07.048322\n",
      "This is lower: ['a', 'b', 'c']\n"
     ]
    }
   ],
   "source": [
    "# basic stats\n",
    "import statistics\n",
    "statistics.mean([1,2,3])\n",
    "\n",
    "# useful data structures. Others might be defaultdict and namedtuple\n",
    "from collections import Counter\n",
    "print(\"This is Counter:\", Counter(['a','b','a']))\n",
    "\n",
    "# advanced iteration tools \n",
    "from itertools import combinations\n",
    "items = ['a', 'b', 'c']\n",
    "result = list(combinations(items, 2))\n",
    "print(\"This is itertools\", result)  # [('a', 'b'), ('a', 'c'), ('b', 'c')]\n",
    "\n",
    "# for mathematical functions\n",
    "import math\n",
    "print(\"This is math:\", math.sqrt(16))\n",
    "\n",
    "# for date/time operations\n",
    "from datetime import datetime\n",
    "now = datetime.now()\n",
    "print(\"This is datetime:\", now)\n",
    "\n",
    "# for cleaning and formatting: str.strip(), str.lower(), str.upper(), str.replace(), str.split(), str.join()\n",
    "cleaned = [s.strip().lower() for s in ['  A ', 'B  ', ' c']]\n",
    "print(\"This is lower:\", cleaned)"
   ]
  },
  {
   "cell_type": "markdown",
   "id": "1500bdaf",
   "metadata": {},
   "source": [
    "However, we will be likely doing anything beyond simple operations like the above, so we'll typically use:\n",
    "\n",
    "`pandas` for data frames (more similar to Stata)\n",
    "\n",
    "`numpy` for numerical arrays\n",
    "\n",
    "`matplotlib` / `seaborn` for visualization\n",
    "\n",
    "But before that, it's useful to understand how custom functions and objects work in order to leverage the power to organise, reuse and simplify code."
   ]
  },
  {
   "cell_type": "code",
   "execution_count": 83,
   "id": "e14d1f76",
   "metadata": {},
   "outputs": [],
   "source": [
    "# the basic syntax is as follows:\n",
    "def function_name(parameters):\n",
    "    # code block\n",
    "    return result  # (optional)"
   ]
  },
  {
   "cell_type": "code",
   "execution_count": 85,
   "id": "4e55cabe",
   "metadata": {},
   "outputs": [
    {
     "name": "stdout",
     "output_type": "stream",
     "text": [
      "Hello!\n"
     ]
    }
   ],
   "source": [
    "# Simple function 1\n",
    "def greet():\n",
    "    print(\"Hello!\")\n",
    "    \n",
    "greet()"
   ]
  },
  {
   "cell_type": "code",
   "execution_count": 87,
   "id": "04b2f97d",
   "metadata": {},
   "outputs": [
    {
     "name": "stdout",
     "output_type": "stream",
     "text": [
      "Hello, Borja!\n"
     ]
    }
   ],
   "source": [
    "# Simple function 2\n",
    "def greet(name):\n",
    "    print(f\"Hello, {name}!\")\n",
    "\n",
    "greet(\"Borja\")"
   ]
  },
  {
   "cell_type": "code",
   "execution_count": 88,
   "id": "55229465",
   "metadata": {},
   "outputs": [
    {
     "name": "stdout",
     "output_type": "stream",
     "text": [
      "16\n"
     ]
    }
   ],
   "source": [
    "# Simple function 3\n",
    "def square(x):\n",
    "    return x * x\n",
    "\n",
    "result = square(4)\n",
    "print(result)"
   ]
  },
  {
   "cell_type": "markdown",
   "id": "7a4934cd",
   "metadata": {},
   "source": [
    "We use this a lot in our daily data analysis. See for instance a real function that we have used in several cases."
   ]
  },
  {
   "cell_type": "code",
   "execution_count": 90,
   "id": "4038b5da",
   "metadata": {},
   "outputs": [],
   "source": [
    "def calculate_distance(row):\n",
    "    ''' calculates distance in km between origin and dest coordinates'''\n",
    "    if None in [row['origin_lat'], row['origin_lon'], row['dest_lat'], row['dest_lon']]:\n",
    "        return None  # Return None if any coordinates are missing\n",
    "    origin_coords = (row['origin_lat'], row['origin_lon'])\n",
    "    dest_coords = (row['dest_lat'], row['dest_lon'])\n",
    "    return geodesic(origin_coords, dest_coords).kilometers  # Calculate distance in kilometers"
   ]
  },
  {
   "cell_type": "markdown",
   "id": "0fc85c1e",
   "metadata": {},
   "source": [
    "Making custom functions that are efficient, nice and useful is not easy, but I usueally try to keep the following in mind:\n",
    "- Think of functions like mini-programs: input → process → output.\n",
    "- Use them to avoid repeating code.\n",
    "- Use clear names to describe what they do."
   ]
  },
  {
   "cell_type": "markdown",
   "id": "cb852af1",
   "metadata": {},
   "source": [
    "### BONUS: Creating objects\n",
    "\n",
    "Object oriented programming is a programming style based on objects—data (attributes) and behaviors (methods/functions) bundled together. In Python, you create objects from classes. This is how modules are created, and understanding how to make them is one of the most powerful tools one can have in Python.\n",
    "\n",
    "A class is a blueprint for creating objects. Imagine you're designing a car in code. A real car has:\n",
    "- Attributes (measurements or state): color, speed, brand\n",
    "- Methods (actions or behaviors): drive forward, drive backward, stop"
   ]
  },
  {
   "cell_type": "code",
   "execution_count": 93,
   "id": "99a8ee0c",
   "metadata": {},
   "outputs": [],
   "source": [
    "class Car:\n",
    "    def __init__(self, brand, color): # this is needed to instantiate the class (kind of initialise it)\n",
    "        self.brand = brand      # attribute\n",
    "        self.color = color      # attribute\n",
    "\n",
    "    def forward(self):          # method\n",
    "        print(\"Car is moving forward.\")\n",
    "\n",
    "    def backward(self):         # method\n",
    "        print(\"Car is reversing.\")"
   ]
  },
  {
   "cell_type": "markdown",
   "id": "413312dc",
   "metadata": {},
   "source": [
    "Now we create an actual car based on that blueprint:"
   ]
  },
  {
   "cell_type": "code",
   "execution_count": 94,
   "id": "83fdaef3",
   "metadata": {},
   "outputs": [
    {
     "name": "stdout",
     "output_type": "stream",
     "text": [
      "Car is moving forward.\n",
      "Car is reversing.\n"
     ]
    }
   ],
   "source": [
    "my_car = Car(\"Toyota\", \"red\")\n",
    "\n",
    "my_car.forward()   # Output: Car is moving forward.\n",
    "my_car.backward()  # Output: Car is reversing."
   ]
  },
  {
   "cell_type": "markdown",
   "id": "f79e11d7",
   "metadata": {},
   "source": [
    "So my_car is now an object of type Car. It has measurements (brand, color) and can perform actions (forward, backward).\n",
    "\n",
    "You can only do what the class allows. If you try something it wasn’t designed for, it will return an error:"
   ]
  },
  {
   "cell_type": "code",
   "execution_count": 95,
   "id": "c9883198",
   "metadata": {},
   "outputs": [
    {
     "ename": "AttributeError",
     "evalue": "'Car' object has no attribute 'sideways'",
     "output_type": "error",
     "traceback": [
      "\u001b[1;31m---------------------------------------------------------------------------\u001b[0m",
      "\u001b[1;31mAttributeError\u001b[0m                            Traceback (most recent call last)",
      "Cell \u001b[1;32mIn[95], line 1\u001b[0m\n\u001b[1;32m----> 1\u001b[0m \u001b[43mmy_car\u001b[49m\u001b[38;5;241;43m.\u001b[39;49m\u001b[43msideways\u001b[49m()  \u001b[38;5;66;03m# ❌ Error: 'Car' object has no attribute 'sideways'\u001b[39;00m\n",
      "\u001b[1;31mAttributeError\u001b[0m: 'Car' object has no attribute 'sideways'"
     ]
    }
   ],
   "source": [
    "my_car.sideways()  # ❌ Error: 'Car' object has no attribute 'sideways'"
   ]
  },
  {
   "cell_type": "markdown",
   "id": "9f89dcb6",
   "metadata": {},
   "source": [
    "One of the useful parts of object oriented programming is inheritance. Let’s say we want to make a RaceCar, which is just like a Car, but with extra power.\n",
    "\n",
    "We can inherit all the properties from Car:"
   ]
  },
  {
   "cell_type": "code",
   "execution_count": 96,
   "id": "05168848",
   "metadata": {},
   "outputs": [],
   "source": [
    "class RaceCar(Car):  # Inherit from Car\n",
    "    def boost(self):\n",
    "        print(\"RaceCar is boosting speed!\")"
   ]
  },
  {
   "cell_type": "markdown",
   "id": "cc52f95c",
   "metadata": {},
   "source": [
    "Now the new object has everything a Car has, plus more:"
   ]
  },
  {
   "cell_type": "code",
   "execution_count": 97,
   "id": "4c803eca",
   "metadata": {},
   "outputs": [
    {
     "name": "stdout",
     "output_type": "stream",
     "text": [
      "Car is moving forward.\n",
      "RaceCar is boosting speed!\n"
     ]
    }
   ],
   "source": [
    "fast_car = RaceCar(\"Ferrari\", \"yellow\")\n",
    "fast_car.forward()  # Inherited from Car\n",
    "fast_car.boost()    # New method in RaceCar"
   ]
  },
  {
   "cell_type": "markdown",
   "id": "951809cf",
   "metadata": {},
   "source": [
    "While not essential for our day-to-day data analysis, investing time in developing custom modules for the CET to use in recurring tasks could unlock a range of exciting and valuable projects."
   ]
  }
 ],
 "metadata": {
  "kernelspec": {
   "display_name": "Python 3 (ipykernel)",
   "language": "python",
   "name": "python3"
  },
  "language_info": {
   "codemirror_mode": {
    "name": "ipython",
    "version": 3
   },
   "file_extension": ".py",
   "mimetype": "text/x-python",
   "name": "python",
   "nbconvert_exporter": "python",
   "pygments_lexer": "ipython3",
   "version": "3.9.18"
  }
 },
 "nbformat": 4,
 "nbformat_minor": 5
}
